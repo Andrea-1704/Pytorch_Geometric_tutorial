{
  "cells": [
    {
      "cell_type": "code",
      "execution_count": null,
      "metadata": {
        "colab": {
          "base_uri": "https://localhost:8080/"
        },
        "id": "5rKvS62Xhrgk",
        "outputId": "87c9c5eb-0d9c-48c2-bf89-6af6931e3b7c"
      },
      "outputs": [
        {
          "name": "stdout",
          "output_type": "stream",
          "text": [
            "Looking in links: https://data.pyg.org/whl/torch-2.4.0+cpu.html\n",
            "Collecting torch-scatter\n",
            "  Downloading https://data.pyg.org/whl/torch-2.4.0%2Bcpu/torch_scatter-2.1.2%2Bpt24cpu-cp311-cp311-linux_x86_64.whl (543 kB)\n",
            "\u001b[2K     \u001b[90m━━━━━━━━━━━━━━━━━━━━━━━━━━━━━━━━━━━━━━━━\u001b[0m \u001b[32m543.5/543.5 kB\u001b[0m \u001b[31m5.4 MB/s\u001b[0m eta \u001b[36m0:00:00\u001b[0m\n",
            "\u001b[?25hInstalling collected packages: torch-scatter\n",
            "Successfully installed torch-scatter-2.1.2+pt24cpu\n",
            "Looking in links: https://data.pyg.org/whl/torch-2.4.0+cpu.html\n",
            "Collecting torch-sparse\n",
            "  Downloading https://data.pyg.org/whl/torch-2.4.0%2Bcpu/torch_sparse-0.6.18%2Bpt24cpu-cp311-cp311-linux_x86_64.whl (1.2 MB)\n",
            "\u001b[2K     \u001b[90m━━━━━━━━━━━━━━━━━━━━━━━━━━━━━━━━━━━━━━━━\u001b[0m \u001b[32m1.2/1.2 MB\u001b[0m \u001b[31m11.7 MB/s\u001b[0m eta \u001b[36m0:00:00\u001b[0m\n",
            "\u001b[?25hRequirement already satisfied: scipy in /usr/local/lib/python3.11/dist-packages (from torch-sparse) (1.14.1)\n",
            "Requirement already satisfied: numpy<2.3,>=1.23.5 in /usr/local/lib/python3.11/dist-packages (from scipy->torch-sparse) (2.0.2)\n",
            "Installing collected packages: torch-sparse\n",
            "Successfully installed torch-sparse-0.6.18+pt24cpu\n"
          ]
        }
      ],
      "source": [
        "# # Install required packages.\n",
        "\n",
        "# #!pip install torch-geometric==2.6.0 torch-sparse torch-scatter torch-cluster torch-spline-conv pyg-lib -f https://data.pyg.org/whl/torch-2.4.0+cpu.html\n",
        "# #!pip install torch-scatter torch-sparse torch-cluster torch-spline-conv torch-geometric==2.6.0 pyg-lib -f https://data.pyg.org/whl/torch-2.4.0+cpu.html\n",
        "# !pip install torch-scatter -f https://data.pyg.org/whl/torch-2.4.0+cpu.html\n",
        "# !pip install torch-sparse -f https://data.pyg.org/whl/torch-2.4.0+cpu.html\n",
        "# !pip install torch-cluster -f https://data.pyg.org/whl/torch-2.4.0+cpu.html\n",
        "# !pip install torch-spline-conv -f https://data.pyg.org/whl/torch-2.4.0+cpu.html\n",
        "# !pip install torch-geometric==2.6.0 -f https://data.pyg.org/whl/torch-2.4.0+cpu.html\n",
        "# !pip install pyg-lib -f https://data.pyg.org/whl/torch-2.4.0+cpu.html\n",
        "# !pip install pytorch_frame[full]==1.2.2\n",
        "# !pip install relbench[full]==1.0.0\n",
        "# #!pip install --upgrade torch torchvision transformers\n",
        "# #!pip install --upgrade torchvision transformers\n",
        "# #!pip install torch==2.5.0 -f https://download.pytorch.org/whl/cpu/torch_stable.html\n",
        "# #!pip install pyg_lib -f https://data.pyg.org/whl/torch-2.0.0+cpu.html\n",
        "# !pip uninstall -y pyg_lib torch  # Uninstall current versions\n",
        "# !pip install torch==2.6.0  # Reinstall your desired PyTorch version\n",
        "# !pip install --no-cache-dir git+https://github.com/pyg-team/pyg-lib.git # Install pyg-lib; --no-cache-dir ensures a fresh install"
      ]
    },
    {
      "cell_type": "code",
      "execution_count": 2,
      "metadata": {
        "colab": {
          "base_uri": "https://localhost:8080/",
          "height": 384
        },
        "id": "89VSGQzChiCr",
        "outputId": "82385f21-0b25-4d56-df85-3904b29d3a6d"
      },
      "outputs": [
        {
          "name": "stdout",
          "output_type": "stream",
          "text": [
            "Colonne drivers: ['driverId', 'driverRef', 'code', 'forename', 'surname', 'dob', 'nationality']\n",
            "Colonne results: ['resultId', 'raceId', 'driverId', 'constructorId', 'number', 'grid', 'position', 'positionOrder', 'points', 'laps', 'milliseconds', 'fastestLap', 'rank', 'statusId', 'date']\n",
            "\n",
            "Inizio addestramento...\n",
            "Dimensione training set: 652621 esempi\n",
            "\n",
            "Risultati:\n",
            "Validation MAE: 2.92\n"
          ]
        }
      ],
      "source": [
        "from relbench.datasets import get_dataset\n",
        "from relbench.tasks import get_task\n",
        "import pandas as pd\n",
        "from sklearn.ensemble import RandomForestRegressor\n",
        "from sklearn.metrics import mean_absolute_error\n",
        "from sklearn.pipeline import make_pipeline\n",
        "from sklearn.preprocessing import OneHotEncoder\n",
        "from sklearn.compose import ColumnTransformer\n",
        "\n",
        "# 1. Caricamento dati con controllo colonne\n",
        "dataset = get_dataset(name=\"rel-f1\", download=True)\n",
        "task = get_task(\"rel-f1\", \"driver-position\", download=True)\n",
        "\n",
        "# Verifica contenuto tabelle\n",
        "print(\"Colonne drivers:\", dataset.get_db().table_dict['drivers'].df.columns.tolist())\n",
        "print(\"Colonne results:\", dataset.get_db().table_dict['results'].df.columns.tolist())\n",
        "\n",
        "# 2. Estrazione dati con gestione sicura delle colonne\n",
        "def safe_get_columns(df, columns):\n",
        "    return df[[col for col in columns if col in df.columns]]\n",
        "\n",
        "drivers = safe_get_columns(dataset.get_db().table_dict['drivers'].df, ['driverId', 'constructorId'])\n",
        "results = safe_get_columns(dataset.get_db().table_dict['results'].df, ['driverId', 'raceId', 'grid', 'position', 'constructorId'])\n",
        "races = safe_get_columns(dataset.get_db().table_dict['races'].df, ['raceId', 'circuitId', 'date'])\n",
        "\n",
        "# 3. Feature engineering robusto\n",
        "def create_features(df):\n",
        "    # Merge a cascata con gestione errori\n",
        "    try:\n",
        "        merged = df.merge(results, on='driverId', how='left', suffixes=('', '_result')) \\\n",
        "                   .merge(races, on='raceId', how='left') \\\n",
        "                   .merge(drivers, on='driverId', how='left', suffixes=('', '_driver'))\n",
        "\n",
        "        # Costruttore: prima da results, poi da drivers (se mancante)\n",
        "        if 'constructorId' not in merged:\n",
        "            merged['constructorId'] = merged.get('constructorId_driver', merged.get('constructorId_result', None))\n",
        "\n",
        "        # Calcolo features con fallback\n",
        "        merged['driver_avg'] = merged.groupby('driverId')['position'].transform('mean').fillna(20)\n",
        "        merged['circuit_avg'] = merged.groupby(['driverId', 'circuitId'])['position'].transform('mean').fillna(20)\n",
        "        merged['constructor_avg'] = merged.groupby('constructorId')['position'].transform('mean').fillna(20)\n",
        "\n",
        "        features = merged[['driverId', 'circuitId', 'constructorId',\n",
        "                         'driver_avg', 'circuit_avg', 'constructor_avg',\n",
        "                         'grid']].copy()\n",
        "        features.fillna({'grid': 20}, inplace=True)\n",
        "\n",
        "        return features, merged['position']\n",
        "    except Exception as e:\n",
        "        print(f\"Errore durante il merge: {str(e)}\")\n",
        "        raise\n",
        "\n",
        "# 4. Caricamento e preparazione tabelle\n",
        "train_table = task.get_table(\"train\").df\n",
        "val_table = task.get_table(\"val\").df\n",
        "test_table = task.get_table(\"test\").df\n",
        "\n",
        "# Aggiungi date alle tabelle principali per il merge\n",
        "train_table['date'] = pd.to_datetime(train_table['date'])\n",
        "val_table['date'] = pd.to_datetime(val_table['date'])\n",
        "test_table['date'] = pd.to_datetime(test_table['date'])\n",
        "\n",
        "# 5. Creazione dataset\n",
        "X_train, y_train = create_features(train_table)\n",
        "X_val, y_val = create_features(val_table)\n",
        "X_test, y_test = create_features(test_table)\n",
        "\n",
        "# 6. Pipeline con gestione valori mancanti\n",
        "preprocessor = ColumnTransformer(\n",
        "    transformers=[\n",
        "        ('cat', OneHotEncoder(handle_unknown='ignore'),\n",
        "        ['driverId', 'circuitId', 'constructorId'])\n",
        "    ],\n",
        "    remainder='passthrough'\n",
        ")\n",
        "\n",
        "model = make_pipeline(\n",
        "    preprocessor,\n",
        "    RandomForestRegressor(\n",
        "        n_estimators=200,\n",
        "        max_depth=10,\n",
        "        min_samples_leaf=5,\n",
        "        random_state=42,\n",
        "        n_jobs=-1\n",
        "    )\n",
        ")\n",
        "\n",
        "# 7. Addestramento con logging\n",
        "print(\"\\nInizio addestramento...\")\n",
        "print(f\"Dimensione training set: {len(X_train)} esempi\")\n",
        "model.fit(X_train, y_train)\n",
        "\n",
        "# 8. Valutazione\n",
        "val_pred = model.predict(X_val)\n",
        "test_pred = model.predict(X_test)\n",
        "\n",
        "print(\"\\nRisultati:\")\n",
        "print(f\"Validation MAE: {mean_absolute_error(y_val, val_pred):.2f}\")\n",
        "#print(f\"Test MAE: {mean_absolute_error(y_test, test_pred):.2f}\")"
      ]
    }
  ],
  "metadata": {
    "accelerator": "GPU",
    "colab": {
      "gpuType": "T4",
      "provenance": []
    },
    "kernelspec": {
      "display_name": "venv",
      "language": "python",
      "name": "python3"
    },
    "language_info": {
      "codemirror_mode": {
        "name": "ipython",
        "version": 3
      },
      "file_extension": ".py",
      "mimetype": "text/x-python",
      "name": "python",
      "nbconvert_exporter": "python",
      "pygments_lexer": "ipython3",
      "version": "3.10.0"
    }
  },
  "nbformat": 4,
  "nbformat_minor": 0
}
